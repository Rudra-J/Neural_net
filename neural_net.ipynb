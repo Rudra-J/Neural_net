{
 "cells": [
  {
   "cell_type": "code",
   "execution_count": 1,
   "id": "7fa3a7a4",
   "metadata": {},
   "outputs": [],
   "source": [
    "import numpy as np\n",
    "import matplotlib.pyplot as plt"
   ]
  },
  {
   "cell_type": "code",
   "execution_count": 2,
   "id": "c820c4c4",
   "metadata": {},
   "outputs": [],
   "source": [
    "class neural_net:\n",
    "    \n",
    "    def __init__(self,x,y,struct,activ,epoch,lr=0.01):\n",
    "        self.layers=len(struct)\n",
    "        self.struct=struct\n",
    "        self.activ=activ\n",
    "        self.x=x\n",
    "        self.y=y\n",
    "        self.param=self.evaluate(epoch,lr)\n",
    "\n",
    "    def gen_network(self):\n",
    "        param={}\n",
    "        for i in range(self.layers):\n",
    "            if i==0:a,b=self.struct[i],self.x.shape[0]\n",
    "            else:a,b=self.struct[i],self.struct[i-1]\n",
    "            param[f'w{i+1}']=np.random.randn(a,b)\n",
    "            param[f'b{i+1}']=np.random.randn(a,1)\n",
    "        return param\n",
    "\n",
    "    def activate(self,z,func,d=False,alpha=0.01):\n",
    "        if func=='s':\n",
    "            if not d: return 1/(1+np.exp(-z))\n",
    "            else:     return z*(1-z)\n",
    "        elif func=='t':\n",
    "            if not d: return (np.exp(z)-np.exp(-z))/(np.exp(z)+np.exp(-z))\n",
    "            else:     return 1-z**2\n",
    "        elif func=='r':\n",
    "            if not d: return np.maximum(0,z)\n",
    "            else:     return np.int64(z>0)\n",
    "        elif func=='lr':\n",
    "            if not d: return np.maximum(0.01*z,z)\n",
    "            else:     return np.where(z>0,1,alpha)\n",
    "            \n",
    "    def forward(self,param):\n",
    "        fwd={}\n",
    "        for i in range(self.layers):\n",
    "            if i==0:\n",
    "                fwd[f'z{i+1}']=np.dot(param['w1'],self.x)+param[f'b{i+1}']\n",
    "                fwd[f'a{i+1}']=self.activate(z=(fwd[f'z{i+1}']),func=self.activ[i]) \n",
    "            else:\n",
    "                fwd[f'z{i+1}']=np.dot(param[f'w{i+1}'],fwd[f'a{i}'])+param[f'b{i+1}']\n",
    "                fwd[f'a{i+1}']=self.activate(z=fwd[f'z{i+1}'],func=self.activ[i]) \n",
    "        return fwd\n",
    "\n",
    "    def back(self,fwd,param):\n",
    "        delta={}\n",
    "        for i in range(self.layers,0,-1):\n",
    "            if i==self.layers:\n",
    "                delta[f'dz{i}']=fwd[f'a{i}']-self.y\n",
    "                delta[f'dw{i}']=np.dot(delta[f'dz{i}'],fwd[f'a{i-1}'].T)/self.y.shape[1]\n",
    "                delta[f'db{i}']=np.sum(delta[f'dz{i}'],axis=1,keepdims=True)/self.y.shape[1]\n",
    "            elif i==1:\n",
    "                delta[f'dz{i}']=(np.dot(param[f'w{i+1}'].T,delta[f'dz{i+1}']))*(self.activate(fwd[f'z{i}'],self.activ[i-1],d=True))\n",
    "                delta[f'dw{i}']=np.dot(delta[f'dz{i}'],self.x.T)/self.y.shape[1]\n",
    "                delta[f'db{i}']=np.sum(delta[f'dz{i}'],axis=1,keepdims=True)/self.y.shape[1]\n",
    "            else:\n",
    "                delta[f'dz{i}']=(np.dot(param[f'w{i+1}'].T,delta[f'dz{i+1}']))*(self.activate(fwd[f'z{i}'],self.activ[i-1],d=True))\n",
    "                delta[f'dw{i}']=np.dot(delta[f'dz{i}'],fwd[f'a{i-1}'].T)/self.y.shape[1]\n",
    "                delta[f'db{i}']=np.sum(delta[f'dz{i}'],axis=1,keepdims=True)/self.y.shape[1]\n",
    "        return delta\n",
    "\n",
    "    def update(self,param,delta,lr):\n",
    "        for i in param:\n",
    "            param[i]-=lr*delta[f'd{i}']\n",
    "        return param\n",
    "    \n",
    "    def cost(self,yh,n):\n",
    "        m = self.y.shape[1]\n",
    "        try:\n",
    "            logp = np.multiply(self.y,np.log(yh))+np.multiply((1-self.y),np.log(1-yh))\n",
    "            cost = np.sum(-logp)/m\n",
    "        except Exception as e:\n",
    "            print(n,e)\n",
    "        cost=float(np.squeeze(cost))\n",
    "        return cost\n",
    "    \n",
    "    def evaluate(self,epoch,lr,cost_out=True):  \n",
    "        param=self.gen_network()\n",
    "        cost=[]\n",
    "        for i in range(epoch):\n",
    "            fwd=self.forward(param=param)\n",
    "            cost.append(self.cost(fwd[f'a{len(self.struct)}'],i))\n",
    "            delta=self.back(fwd,param)\n",
    "            param=self.update(param,delta,lr)\n",
    "        if cost_out:\n",
    "            plt.plot(cost)\n",
    "        return param"
   ]
  },
  {
   "cell_type": "code",
   "execution_count": 3,
   "id": "17d2ff8a",
   "metadata": {},
   "outputs": [],
   "source": [
    "np.random.seed(1)\n",
    "x=np.random.randn(5,6)\n",
    "y=np.int64(np.random.randn(1,6)>0)"
   ]
  },
  {
   "cell_type": "code",
   "execution_count": 5,
   "id": "e8dc2c87",
   "metadata": {},
   "outputs": [
    {
     "data": {
      "image/png": "[encoded data removed]",
      "text/plain": [
       "<Figure size 640x480 with 1 Axes>"
      ]
     },
     "metadata": {},
     "output_type": "display_data"
    }
   ],
   "source": [
    "nn=neural_net(x,y,[6,5,4,3,2,1],['r','r','r','r','r','s'],40000,0.01)"
   ]
  },
  {
   "cell_type": "code",
   "execution_count": 6,
   "id": "eb3e8454",
   "metadata": {},
   "outputs": [
    {
     "data": {
      "text/plain": [
       "{'w1': array([[-0.41675785, -0.05626683, -2.1361961 ,  1.64027081, -1.79343559],\n",
       "        [-0.84174737,  0.50288142, -1.24528809, -1.05795222, -0.90900761],\n",
       "        [ 0.55145404,  2.29220801,  0.04153939, -1.11792545,  0.53905832],\n",
       "        [-0.5961597 , -0.0191305 ,  1.17500122, -0.74787095,  0.00902525],\n",
       "        [-0.87810789, -0.15643417,  0.25657045, -0.98877905, -0.33882197],\n",
       "        [-0.23618403, -0.63765501, -1.18761229, -1.42121723, -0.1534952 ]]),\n",
       " 'b1': array([[-0.26905696],\n",
       "        [ 2.23136679],\n",
       "        [-2.43476758],\n",
       "        [ 0.1127265 ],\n",
       "        [ 0.37044454],\n",
       "        [ 1.35963386]]),\n",
       " 'w2': array([[ 5.01857207e-01, -8.44213704e-01,  9.76147160e-06,\n",
       "          5.42352572e-01, -3.13508197e-01,  7.71011738e-01],\n",
       "        [-1.86809065e+00,  1.73118467e+00,  1.46767801e+00,\n",
       "         -3.35677339e-01,  6.11340780e-01,  4.79705919e-02],\n",
       "        [-8.29135289e-01,  8.77102184e-02,  1.00036589e+00,\n",
       "         -3.81092518e-01, -3.75669423e-01, -7.44707629e-02],\n",
       "        [ 4.33496330e-01,  1.27837923e+00, -6.34679305e-01,\n",
       "          5.08396243e-01,  2.16116006e-01, -1.85861239e+00],\n",
       "        [-4.19316482e-01, -1.32328898e-01, -3.95702397e-02,\n",
       "          3.26003433e-01, -2.04032305e+00,  4.62555231e-02]]),\n",
       " 'b2': array([[-0.67767558],\n",
       "        [-1.43943903],\n",
       "        [ 0.52429643],\n",
       "        [ 0.73527958],\n",
       "        [-0.65325027]]),\n",
       " 'w3': array([[ 0.84245628, -0.38151648,  0.06648901, -1.09873895,  1.58448706],\n",
       "        [-2.65944946, -0.09145262,  0.69511961, -2.03346655, -0.18946926],\n",
       "        [-0.07721867,  0.82470301,  1.24821292, -0.40389227, -1.38451867],\n",
       "        [ 1.36723542,  1.21788563, -0.46200535,  0.35088849,  0.38186623]]),\n",
       " 'b3': array([[ 0.56627544],\n",
       "        [ 0.20420798],\n",
       "        [ 1.40669624],\n",
       "        [-1.7379595 ]]),\n",
       " 'w4': array([[ 1.04082395,  0.38047197, -0.21713527,  1.1735315 ],\n",
       "        [-2.34360319,  1.16152149,  0.38607805, -1.13313327],\n",
       "        [ 0.43309255, -0.30408644,  2.58529487,  1.83533272]]),\n",
       " 'b4': array([[ 0.44068987],\n",
       "        [-0.71925384],\n",
       "        [-0.58341459]]),\n",
       " 'w5': array([[-0.32504963, -0.56023451, -0.90224607],\n",
       "        [-0.59097228, -0.27617949, -0.51688389]]),\n",
       " 'b5': array([[-0.69858995],\n",
       "        [-0.92889192]]),\n",
       " 'w6': array([[ 2.55043824, -1.47317325]]),\n",
       " 'b6': array([[-5.98603935]])}"
      ]
     },
     "execution_count": 6,
     "metadata": {},
     "output_type": "execute_result"
    }
   ],
   "source": [
    "nn.param"
   ]
  },
  {
   "cell_type": "code",
   "execution_count": null,
   "id": "63cff905",
   "metadata": {},
   "outputs": [],
   "source": []
  }
 ],
 "metadata": {
  "kernelspec": {
   "display_name": "Python 3 (ipykernel)",
   "language": "python",
   "name": "python3"
  },
  "language_info": {
   "codemirror_mode": {
    "name": "ipython",
    "version": 3
   },
   "file_extension": ".py",
   "mimetype": "text/x-python",
   "name": "python",
   "nbconvert_exporter": "python",
   "pygments_lexer": "ipython3",
   "version": "3.11.4"
  }
 },
 "nbformat": 4,
 "nbformat_minor": 5
}
