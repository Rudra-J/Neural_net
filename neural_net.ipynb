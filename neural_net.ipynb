{
 "cells": [
  {
   "cell_type": "code",
   "execution_count": 25,
   "id": "7fa3a7a4",
   "metadata": {},
   "outputs": [],
   "source": [
    "import numpy as np\n",
    "import matplotlib.pyplot as plt"
   ]
  },
  {
   "cell_type": "code",
   "execution_count": 26,
   "id": "c820c4c4",
   "metadata": {},
   "outputs": [],
   "source": [
    "class neural_net:\n",
    "    \n",
    "    def __init__(self,x,y,struct,activ,epoch,lr=0.01):\n",
    "        self.layers=len(struct)\n",
    "        self.struct=struct\n",
    "        self.activ=activ\n",
    "        self.x=x\n",
    "        self.y=y\n",
    "        self.param=self.evaluate(epoch,lr)\n",
    "\n",
    "    def gen_network(self):\n",
    "        param={}\n",
    "        for i in range(self.layers):\n",
    "            if i==0:a,b=self.struct[i],self.x.shape[0]\n",
    "            else:a,b=self.struct[i],self.struct[i-1]\n",
    "            param[f'w{i+1}']=np.random.randn(a,b)\n",
    "            param[f'b{i+1}']=np.random.randn(a,1)\n",
    "        return param\n",
    "\n",
    "    def activate(self,z,func,d=False,alpha=0.01):\n",
    "        if func=='s':\n",
    "            if not d: return 1/(1+np.exp(-z))\n",
    "            else:     return z*(1-z)\n",
    "        elif func=='t':\n",
    "            if not d: return (np.exp(z)-np.exp(-z))/(np.exp(z)+np.exp(-z))\n",
    "            else:     return 1-z**2\n",
    "        elif func=='r':\n",
    "            if not d: return np.maximum(0,z)\n",
    "            else:     return np.int64(z>0)\n",
    "        elif func=='lr':\n",
    "            if not d: return np.maximum(0.01*z,z)\n",
    "            else:     return np.where(z>0,1,alpha)\n",
    "            \n",
    "    def forward(self,param):\n",
    "        fwd={}\n",
    "        for i in range(self.layers):\n",
    "            if i==0:\n",
    "                fwd[f'z{i+1}']=np.dot(param['w1'],self.x)+param[f'b{i+1}']\n",
    "                fwd[f'a{i+1}']=self.activate(z=(fwd[f'z{i+1}']),func=self.activ[i]) \n",
    "            else:\n",
    "                fwd[f'z{i+1}']=np.dot(param[f'w{i+1}'],fwd[f'a{i}'])+param[f'b{i+1}']\n",
    "                fwd[f'a{i+1}']=self.activate(z=fwd[f'z{i+1}'],func=self.activ[i]) \n",
    "        return fwd\n",
    "\n",
    "    def back(self,fwd,param):\n",
    "        delta={}\n",
    "        for i in range(self.layers,0,-1):\n",
    "            if i==self.layers:\n",
    "                delta[f'dz{i}']=fwd[f'a{i}']-self.y\n",
    "                delta[f'dw{i}']=np.dot(delta[f'dz{i}'],fwd[f'a{i-1}'].T)/self.x.shape[1]\n",
    "                delta[f'db{i}']=np.sum(delta[f'dz{i}'],axis=1,keepdims=True)/self.x.shape[1]\n",
    "            elif i==1:\n",
    "                delta[f'dz{i}']=(np.dot(param[f'w{i+1}'].T,delta[f'dz{i+1}']))*(self.activate(fwd[f'z{i}'],self.activ[self.layers-i-1],d=True))\n",
    "                delta[f'dw{i}']=np.dot(delta[f'dz{i}'],self.x.T)/self.x.shape[1]\n",
    "                delta[f'db{i}']=np.sum(delta[f'dz{i}'],axis=1,keepdims=True)/self.x.shape[1]\n",
    "            else:\n",
    "                delta[f'dz{i}']=(np.dot(param[f'w{i+1}'].T,delta[f'dz{i+1}']))*(self.activate(fwd[f'z{i}'],self.activ[self.layers-i-1],d=True))\n",
    "                delta[f'dw{i}']=np.dot(delta[f'dz{i}'],fwd[f'a{i-1}'].T)/self.x.shape[1]\n",
    "                delta[f'db{i}']=np.sum(delta[f'dz{i}'],axis=1,keepdims=True)/self.x.shape[1]\n",
    "        return delta\n",
    "\n",
    "    def update(self,param,delta,lr):\n",
    "        for i in param:\n",
    "            param[i]-=lr*delta[f'd{i}']\n",
    "        return param\n",
    "    \n",
    "    def cost(self,yh,n):\n",
    "        m = self.y.shape[1]\n",
    "        try:\n",
    "            logp = np.multiply(self.y,np.log(yh))+np.multiply((1-self.y),np.log(1-yh))\n",
    "            cost = np.sum(-logp)/m\n",
    "        except Exception as e:\n",
    "            print(n,e)\n",
    "        cost=float(np.squeeze(cost))\n",
    "        return cost\n",
    "    \n",
    "    def evaluate(self,epoch,lr,cost_out=True):  \n",
    "        param=self.gen_network()\n",
    "        cost=[]\n",
    "        for i in range(epoch):\n",
    "            fwd=self.forward(param=param)\n",
    "            cost.append(self.cost(fwd[f'a{len(self.struct)}'],i))\n",
    "            delta=self.back(fwd,param)\n",
    "            param=self.update(param,delta,lr)\n",
    "        if cost_out:\n",
    "            plt.plot(cost)\n",
    "        return param"
   ]
  },
  {
   "cell_type": "code",
   "execution_count": 27,
   "id": "17d2ff8a",
   "metadata": {},
   "outputs": [],
   "source": [
    "np.random.seed(1)\n",
    "x=np.random.randn(5,6)\n",
    "y=np.int64(np.random.randn(1,6)>0)"
   ]
  },
  {
   "cell_type": "code",
   "execution_count": 28,
   "id": "e8dc2c87",
   "metadata": {},
   "outputs": [
    {
     "data": {
      "image/png": "[encoded data removed]",
      "text/plain": [
       "<Figure size 640x480 with 1 Axes>"
      ]
     },
     "metadata": {},
     "output_type": "display_data"
    }
   ],
   "source": [
    "nn=neural_net(x,y,[4,3,2,1],['r','r','lr','s'],2000,0.01)"
   ]
  },
  {
   "cell_type": "code",
   "execution_count": 29,
   "id": "eb3e8454",
   "metadata": {},
   "outputs": [
    {
     "data": {
      "text/plain": [
       "{'w1': array([[-1.11707533,  0.23143224,  1.65635816,  0.74805727, -0.19445965],\n",
       "        [-0.93488757, -0.75536304,  1.67761973,  0.0689048 , -0.67180875],\n",
       "        [ 0.18451631,  2.13833618,  0.1663524 ,  0.57716454,  0.29734682],\n",
       "        [-0.47446044, -1.17261192, -0.39028847, -0.15829347,  0.4961536 ]]),\n",
       " 'b1': array([[0.84397649],\n",
       "        [0.98731398],\n",
       "        [0.34661462],\n",
       "        [1.03186196]]),\n",
       " 'w2': array([[-0.70757373,  1.30404322,  0.53078684, -0.26295119],\n",
       "        [ 0.64512999,  0.09558766,  1.19114366,  1.63743314],\n",
       "        [ 2.16166344, -1.42132607, -1.44602905, -0.51859658]]),\n",
       " 'b2': array([[0.19145205],\n",
       "        [0.98121905],\n",
       "        [0.30189061]]),\n",
       " 'w3': array([[-2.02220122, -0.30620401,  0.82797464],\n",
       "        [ 0.35403214,  1.2111149 , -0.16417784]]),\n",
       " 'b3': array([[-0.20075807],\n",
       "        [ 0.29355327]]),\n",
       " 'w4': array([[ 0.42058282, -1.01846733]]),\n",
       " 'b4': array([[-0.16604326]])}"
      ]
     },
     "execution_count": 29,
     "metadata": {},
     "output_type": "execute_result"
    }
   ],
   "source": [
    "nn.param"
   ]
  },
  {
   "cell_type": "code",
   "execution_count": null,
   "id": "63cff905",
   "metadata": {},
   "outputs": [],
   "source": []
  }
 ],
 "metadata": {
  "kernelspec": {
   "display_name": "Python 3 (ipykernel)",
   "language": "python",
   "name": "python3"
  },
  "language_info": {
   "codemirror_mode": {
    "name": "ipython",
    "version": 3
   },
   "file_extension": ".py",
   "mimetype": "text/x-python",
   "name": "python",
   "nbconvert_exporter": "python",
   "pygments_lexer": "ipython3",
   "version": "3.11.4"
  }
 },
 "nbformat": 4,
 "nbformat_minor": 5
}
