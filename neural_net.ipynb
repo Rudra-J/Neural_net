{
 "cells": [
  {
   "cell_type": "code",
   "execution_count": 21,
   "id": "7fa3a7a4",
   "metadata": {},
   "outputs": [],
   "source": [
    "import matplotlib.pyplot as plt"
   ]
  },
  {
   "cell_type": "code",
   "execution_count": 22,
   "id": "c820c4c4",
   "metadata": {},
   "outputs": [],
   "source": [
    "class neural_net:\n",
    "    \n",
    "    def __init__(self,x,y,struct,activ,epoch,lr=0.01):\n",
    "        self.layers=len(struct)\n",
    "        self.struct=struct\n",
    "        self.activ=activ\n",
    "        self.x=x\n",
    "        self.y=y\n",
    "        self.param=self.evaluate(epoch,lr)\n",
    "\n",
    "    def gen_network(self):\n",
    "        param={}\n",
    "        for i in range(self.layers):\n",
    "            if i==0:a,b=self.struct[i],self.x.shape[0]\n",
    "            else:a,b=self.struct[i],self.struct[i-1]\n",
    "            param[f'w{i+1}']=np.random.randn(a,b)\n",
    "            param[f'b{i+1}']=np.random.randn(a,1)\n",
    "        return param\n",
    "\n",
    "    def activate(self,z,func,d=False,alpha=0.01):\n",
    "        if func=='s':\n",
    "            if not d: return 1/(1+np.exp(-z))\n",
    "            else:     return z*(1-z)\n",
    "        elif func=='t':\n",
    "            if not d: return (np.exp(z)-np.exp(-z))/(np.exp(z)+np.exp(-z))\n",
    "            else:     return 1-z**2\n",
    "        elif func=='r':\n",
    "            if not d: return np.maximum(0,z)\n",
    "            else:     return np.int64(z>0)\n",
    "        elif func=='lr':\n",
    "            if not d: return np.maximum(0.01*z,z)\n",
    "            else:     return np.where(z>0,1,alpha)\n",
    "            \n",
    "    def forward(self,param):\n",
    "        fwd={}\n",
    "        for i in range(self.layers):\n",
    "            if i==0:\n",
    "                fwd[f'z{i+1}']=np.dot(param['w1'],self.x)+param[f'b{i+1}']\n",
    "                fwd[f'a{i+1}']=self.activate(z=(fwd[f'z{i+1}']),func=self.activ[i]) \n",
    "            else:\n",
    "                fwd[f'z{i+1}']=np.dot(param[f'w{i+1}'],fwd[f'a{i}'])+param[f'b{i+1}']\n",
    "                fwd[f'a{i+1}']=self.activate(z=fwd[f'z{i+1}'],func=self.activ[i]) \n",
    "        return fwd\n",
    "\n",
    "    def back(self,fwd,param):\n",
    "        delta={}\n",
    "        for i in range(self.layers,0,-1):\n",
    "            if i==self.layers:\n",
    "                delta[f'dz{i}']=fwd[f'a{i}']-self.y\n",
    "                delta[f'dw{i}']=np.dot(delta[f'dz{i}'],fwd[f'a{i-1}'].T)/self.x.shape[1]\n",
    "                delta[f'db{i}']=np.sum(delta[f'dz{i}'],axis=1,keepdims=True)/self.x.shape[1]\n",
    "            elif i==1:\n",
    "                delta[f'dz{i}']=(np.dot(param[f'w{i+1}'].T,delta[f'dz{i+1}']))*(self.activate(fwd[f'z{i}'],self.activ[self.layers-i-1],d=True))\n",
    "                delta[f'dw{i}']=np.dot(delta[f'dz{i}'],self.x.T)/self.x.shape[1]\n",
    "                delta[f'db{i}']=np.sum(delta[f'dz{i}'],axis=1,keepdims=True)/self.x.shape[1]\n",
    "            else:\n",
    "                delta[f'dz{i}']=(np.dot(param[f'w{i+1}'].T,delta[f'dz{i+1}']))*(self.activate(fwd[f'z{i}'],self.activ[self.layers-i-1],d=True))\n",
    "                delta[f'dw{i}']=np.dot(delta[f'dz{i}'],fwd[f'a{i-1}'].T)/self.x.shape[1]\n",
    "                delta[f'db{i}']=np.sum(delta[f'dz{i}'],axis=1,keepdims=True)/self.x.shape[1]\n",
    "        return delta\n",
    "\n",
    "    def update(self,param,delta,lr):\n",
    "        for i in param:\n",
    "            param[i]-=lr*delta[f'd{i}']\n",
    "        return param\n",
    "    \n",
    "    def cost(self,yh,n):\n",
    "        m = self.y.shape[1]\n",
    "        try:\n",
    "            logp = np.multiply(self.y,np.log(yh))+np.multiply((1-self.y),np.log(1-yh))\n",
    "            cost = np.sum(-logp)/m\n",
    "        except Exception as e:\n",
    "            print(n,e)\n",
    "        cost=float(np.squeeze(cost))\n",
    "        return cost\n",
    "    \n",
    "    def evaluate(self,epoch,lr,cost_out=True):  \n",
    "        param=self.gen_network()\n",
    "        cost=[]\n",
    "        for i in range(epoch):\n",
    "            fwd=self.forward(param=param)\n",
    "            cost.append(self.cost(fwd[f'a{len(self.struct)}'],i))\n",
    "            delta=self.back(fwd,param)\n",
    "            param=self.update(param,delta,lr)\n",
    "        if cost_out:\n",
    "            plt.plot(cost)\n",
    "        return param"
   ]
  },
  {
   "cell_type": "code",
   "execution_count": 29,
   "id": "e8dc2c87",
   "metadata": {},
   "outputs": [
    {
     "data": {
      "image/png": "[encoded data removed]",
      "text/plain": [
       "<Figure size 640x480 with 1 Axes>"
      ]
     },
     "metadata": {},
     "output_type": "display_data"
    }
   ],
   "source": [
    "import numpy as np\n",
    "np.random.seed(1)\n",
    "x=np.random.randn(4,10)\n",
    "y=np.int64(np.random.randn(1,10)>0)\n",
    "nn=neural_net(x,y,[4,3,2,1],['r','r','lr','s'],5000,0.04)"
   ]
  },
  {
   "cell_type": "code",
   "execution_count": 11,
   "id": "eb3e8454",
   "metadata": {},
   "outputs": [
    {
     "data": {
      "text/plain": [
       "{'w1': array([[-1.27957331,  0.06240631, -1.20279115,  0.57922405],\n",
       "        [-0.4582295 ,  1.3208419 ,  0.22893751,  0.60428534],\n",
       "        [-0.83833387, -0.90947748,  1.60387061, -0.70635146],\n",
       "        [-0.2743163 , -0.41550011, -1.08009943,  0.22581317]]),\n",
       " 'b1': array([[ 0.82904276],\n",
       "        [-0.95029135],\n",
       "        [ 0.51633225],\n",
       "        [-1.32440775]]),\n",
       " 'w2': array([[-0.50485834, -1.61577235,  1.40574252,  0.40890054],\n",
       "        [ 0.6262015 , -0.73094247,  1.58075722,  1.96710175],\n",
       "        [-2.3436297 ,  1.23562091,  1.36356211,  0.3380117 ]]),\n",
       " 'b2': array([[-1.04747096],\n",
       "        [ 0.34300288],\n",
       "        [-0.92331274]]),\n",
       " 'w3': array([[-0.60392063, -1.23005814,  0.5505375 ],\n",
       "        [ 1.1215642 , -0.98414587,  1.52813683]]),\n",
       " 'b3': array([[-1.14434139],\n",
       "        [ 1.38684254]]),\n",
       " 'w4': array([[ 0.82676543, -1.50363238]]),\n",
       " 'b4': array([[1.61579402]])}"
      ]
     },
     "execution_count": 11,
     "metadata": {},
     "output_type": "execute_result"
    }
   ],
   "source": [
    "nn.param"
   ]
  },
  {
   "cell_type": "code",
   "execution_count": null,
   "id": "63cff905",
   "metadata": {},
   "outputs": [],
   "source": []
  }
 ],
 "metadata": {
  "kernelspec": {
   "display_name": "Python 3 (ipykernel)",
   "language": "python",
   "name": "python3"
  },
  "language_info": {
   "codemirror_mode": {
    "name": "ipython",
    "version": 3
   },
   "file_extension": ".py",
   "mimetype": "text/x-python",
   "name": "python",
   "nbconvert_exporter": "python",
   "pygments_lexer": "ipython3",
   "version": "3.11.4"
  }
 },
 "nbformat": 4,
 "nbformat_minor": 5
}
