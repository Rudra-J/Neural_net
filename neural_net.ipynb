{
 "cells": [
  {
   "cell_type": "code",
   "execution_count": 85,
   "id": "7fa3a7a4",
   "metadata": {},
   "outputs": [],
   "source": [
    "import numpy as np\n",
    "import matplotlib.pyplot as plt"
   ]
  },
  {
   "cell_type": "code",
   "execution_count": 86,
   "id": "c820c4c4",
   "metadata": {},
   "outputs": [],
   "source": [
    "class neural_net:\n",
    "    \n",
    "    def __init__(self,x,y,struct,activ,epoch,lr=0.01):\n",
    "        self.layers=len(struct)\n",
    "        self.struct=struct\n",
    "        self.activ=activ\n",
    "        self.x=x\n",
    "        self.y=y\n",
    "        self.param=self.evaluate(epoch,lr)\n",
    "\n",
    "    def gen_network(self):\n",
    "        param={}\n",
    "        for i in range(self.layers):\n",
    "            if i==0:a,b=self.struct[i],self.x.shape[0]\n",
    "            else:a,b=self.struct[i],self.struct[i-1]\n",
    "            param[f'w{i+1}']=np.random.randn(a,b)\n",
    "            param[f'b{i+1}']=np.random.randn(a,1)\n",
    "        return param\n",
    "\n",
    "    def activate(self,z,func,d=False,alpha=0.01):\n",
    "        if func=='s':\n",
    "            if not d: return 1/(1+np.exp(-z))\n",
    "            else:     return z*(1-z)\n",
    "        elif func=='t':\n",
    "            if not d: return (np.exp(z)-np.exp(-z))/(np.exp(z)+np.exp(-z))\n",
    "            else:     return 1-z**2\n",
    "        elif func=='r':\n",
    "            if not d: return np.maximum(0,z)\n",
    "            else:     return np.int64(z>0)\n",
    "        elif func=='lr':\n",
    "            if not d: return np.maximum(0.01*z,z)\n",
    "            else:     return np.where(z>0,1,alpha)\n",
    "            \n",
    "    def forward(self,param):\n",
    "        fwd={}\n",
    "        for i in range(self.layers):\n",
    "            if i==0:\n",
    "                fwd[f'z{i+1}']=np.dot(param['w1'],self.x)+param[f'b{i+1}']\n",
    "                fwd[f'a{i+1}']=self.activate(z=(fwd[f'z{i+1}']),func=self.activ[i]) \n",
    "            else:\n",
    "                fwd[f'z{i+1}']=np.dot(param[f'w{i+1}'],fwd[f'a{i}'])+param[f'b{i+1}']\n",
    "                fwd[f'a{i+1}']=self.activate(z=fwd[f'z{i+1}'],func=self.activ[i]) \n",
    "        return fwd\n",
    "\n",
    "    def back(self,fwd,param):\n",
    "        delta={}\n",
    "        for i in range(self.layers,0,-1):\n",
    "            if i==self.layers:\n",
    "                delta[f'dz{i}']=fwd[f'a{i}']-self.y\n",
    "                delta[f'dw{i}']=np.dot(delta[f'dz{i}'],fwd[f'a{i-1}'].T)/self.y.shape[1]\n",
    "                delta[f'db{i}']=np.sum(delta[f'dz{i}'],axis=1,keepdims=True)/self.y.shape[1]\n",
    "            elif i==1:\n",
    "                delta[f'dz{i}']=(np.dot(param[f'w{i+1}'].T,delta[f'dz{i+1}']))*(self.activate(fwd[f'z{i}'],self.activ[len(self.activ)-2],d=True))\n",
    "                delta[f'dw{i}']=np.dot(delta[f'dz{i}'],self.x.T)/self.y.shape[1]\n",
    "                delta[f'db{i}']=np.sum(delta[f'dz{i}'],axis=1,keepdims=True)/self.y.shape[1]\n",
    "            else:\n",
    "                delta[f'dz{i}']=(np.dot(param[f'w{i+1}'].T,delta[f'dz{i+1}']))*(self.activate(fwd[f'z{i}'],self.activ[len(self.activ)-i-1],d=True))\n",
    "                delta[f'dw{i}']=np.dot(delta[f'dz{i}'],fwd[f'a{i-1}'].T)/self.y.shape[1]\n",
    "                delta[f'db{i}']=np.sum(delta[f'dz{i}'],axis=1,keepdims=True)/self.y.shape[1]\n",
    "        return delta\n",
    "\n",
    "    def update(self,param,delta,lr):\n",
    "        for i in param:\n",
    "            param[i]-=lr*delta[f'd{i}']\n",
    "        return param\n",
    "    \n",
    "    def cost(self,yh,n):\n",
    "        m = self.y.shape[1]\n",
    "        try:\n",
    "            logp = np.multiply(self.y,np.log(yh))+np.multiply((1-self.y),np.log(1-yh))\n",
    "            cost = np.sum(-logp)/m\n",
    "        except Exception as e:\n",
    "            print(n,e)\n",
    "        cost=float(np.squeeze(cost))\n",
    "        return cost\n",
    "    \n",
    "    def evaluate(self,epoch,lr,cost_out=True):  \n",
    "        param=self.gen_network()\n",
    "        cost=[]\n",
    "        for i in range(epoch):\n",
    "            fwd=self.forward(param=param)\n",
    "            cost.append(self.cost(fwd[f'a{len(self.struct)}'],i))\n",
    "            delta=self.back(fwd,param)\n",
    "            param=self.update(param,delta,lr)\n",
    "        if cost_out:\n",
    "            plt.plot(cost)\n",
    "            print(cost[0],cost[-1])\n",
    "        return param"
   ]
  },
  {
   "cell_type": "code",
   "execution_count": 87,
   "id": "17d2ff8a",
   "metadata": {},
   "outputs": [],
   "source": [
    "np.random.seed(1)\n",
    "x = np.random.randn(4,10)\n",
    "y = (np.random.randn(1,10)>0)"
   ]
  },
  {
   "cell_type": "code",
   "execution_count": 88,
   "id": "e8dc2c87",
   "metadata": {},
   "outputs": [
    {
     "name": "stdout",
     "output_type": "stream",
     "text": [
      "0.6453279553316505 0.005875362789199446\n"
     ]
    },
    {
     "data": {
      "image/png": "[encoded data removed]",
      "text/plain": [
       "<Figure size 432x288 with 1 Axes>"
      ]
     },
     "metadata": {
      "needs_background": "light"
     },
     "output_type": "display_data"
    }
   ],
   "source": [
    "nn=neural_net(x,y,[4,3,2,1],['r','r','lr','s'],10000,0.01)"
   ]
  },
  {
   "cell_type": "code",
   "execution_count": 89,
   "id": "eb3e8454",
   "metadata": {},
   "outputs": [
    {
     "data": {
      "text/plain": [
       "{'w1': array([[ 0.15561773, -0.7621085 , -2.13417425,  0.04738346],\n",
       "        [-1.74628501,  1.71027619, -0.17726542,  0.42012197],\n",
       "        [ 0.46611449,  1.42772349, -0.61914103,  1.35970262],\n",
       "        [ 0.51780658, -0.30146121,  0.48717496, -0.07387276]]),\n",
       " 'b1': array([[ 0.98658615],\n",
       "        [ 0.94535524],\n",
       "        [ 1.98811192],\n",
       "        [-1.39497524]]),\n",
       " 'w2': array([[-1.44392116, -0.50436288,  0.1601149 ,  0.87616892],\n",
       "        [ 1.41524573, -2.33302314, -0.58674695,  0.82797464],\n",
       "        [-1.18478549,  1.41933898,  0.69382078, -0.20075807]]),\n",
       " 'b2': array([[ 0.20886017],\n",
       "        [ 0.38232761],\n",
       "        [-0.57639622]]),\n",
       " 'w3': array([[ 0.14958311, -0.82631313, -0.12439   ],\n",
       "        [ 0.1216987 ,  2.12673132,  2.25242117]]),\n",
       " 'b3': array([[ 1.97431179],\n",
       "        [-1.12304009]]),\n",
       " 'w4': array([[-2.09453351,  2.86115258]]),\n",
       " 'b4': array([[-1.06011252]])}"
      ]
     },
     "execution_count": 89,
     "metadata": {},
     "output_type": "execute_result"
    }
   ],
   "source": [
    "nn.param"
   ]
  },
  {
   "cell_type": "code",
   "execution_count": 90,
   "id": "63cff905",
   "metadata": {},
   "outputs": [
    {
     "data": {
      "text/plain": [
       "4"
      ]
     },
     "execution_count": 90,
     "metadata": {},
     "output_type": "execute_result"
    }
   ],
   "source": [
    "nn.layers"
   ]
  },
  {
   "cell_type": "code",
   "execution_count": 91,
   "id": "d8b83229",
   "metadata": {},
   "outputs": [
    {
     "name": "stdout",
     "output_type": "stream",
     "text": [
      "4\n",
      "3\n",
      "2\n",
      "1\n"
     ]
    }
   ],
   "source": [
    "for i in range(4,0,-1):print(i)"
   ]
  },
  {
   "cell_type": "code",
   "execution_count": 92,
   "id": "fb77d16d",
   "metadata": {},
   "outputs": [
    {
     "data": {
      "text/plain": [
       "['r', 'r', 'lr', 's']"
      ]
     },
     "execution_count": 92,
     "metadata": {},
     "output_type": "execute_result"
    }
   ],
   "source": [
    "nn.activ"
   ]
  },
  {
   "cell_type": "code",
   "execution_count": 93,
   "id": "99c3b633",
   "metadata": {},
   "outputs": [
    {
     "data": {
      "text/plain": [
       "[4, 3, 2, 1]"
      ]
     },
     "execution_count": 93,
     "metadata": {},
     "output_type": "execute_result"
    }
   ],
   "source": [
    "nn.struct"
   ]
  },
  {
   "cell_type": "code",
   "execution_count": null,
   "id": "3c25aa57",
   "metadata": {},
   "outputs": [],
   "source": []
  }
 ],
 "metadata": {
  "kernelspec": {
   "display_name": "Python 3 (ipykernel)",
   "language": "python",
   "name": "python3"
  },
  "language_info": {
   "codemirror_mode": {
    "name": "ipython",
    "version": 3
   },
   "file_extension": ".py",
   "mimetype": "text/x-python",
   "name": "python",
   "nbconvert_exporter": "python",
   "pygments_lexer": "ipython3",
   "version": "3.10.5"
  }
 },
 "nbformat": 4,
 "nbformat_minor": 5
}
